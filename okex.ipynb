{
 "cells": [
  {
   "cell_type": "markdown",
   "id": "04d7e6a2",
   "metadata": {},
   "source": [
    "# 准备好okex.v5的api 导入进来"
   ]
  },
  {
   "cell_type": "code",
   "execution_count": null,
   "id": "06fb62a2",
   "metadata": {},
   "outputs": [],
   "source": [
    "import okex.v5.account_api as account\n",
    "import okex.v5.market_api as market\n",
    "import okex.v5.public_api as public\n",
    "import okex.v5.trade_api as trade\n",
    "import json\n",
    "import datetime"
   ]
  },
  {
   "cell_type": "markdown",
   "id": "79d5ac83",
   "metadata": {},
   "source": [
    "# 打开api.json 并且获取okex的api秘钥"
   ]
  },
  {
   "cell_type": "code",
   "execution_count": 16,
   "id": "01171d19",
   "metadata": {},
   "outputs": [],
   "source": [
    "with open('api.json', 'r', encoding='utf-8') as f:\n",
    "        obj = json.loads(f.read())\n",
    "    "
   ]
  },
  {
   "cell_type": "code",
   "execution_count": 17,
   "id": "b31b5b85",
   "metadata": {},
   "outputs": [],
   "source": [
    "api_key = obj['api_key']\n",
    "secret_key = obj['secret_key']\n",
    "passphrase = obj['passphrase']"
   ]
  },
  {
   "cell_type": "code",
   "execution_count": 30,
   "id": "1bdfe476",
   "metadata": {},
   "outputs": [
    {
     "ename": "AttributeError",
     "evalue": "'AccountAPI' object has no attribute 'get_position_risk'",
     "output_type": "error",
     "traceback": [
      "\u001b[1;31m---------------------------------------------------------------------------\u001b[0m",
      "\u001b[1;31mAttributeError\u001b[0m                            Traceback (most recent call last)",
      "\u001b[1;32m<ipython-input-30-499c79eb89f8>\u001b[0m in \u001b[0;36m<module>\u001b[1;34m\u001b[0m\n\u001b[0;32m      4\u001b[0m \u001b[0maccountAPI\u001b[0m \u001b[1;33m=\u001b[0m \u001b[0maccount\u001b[0m\u001b[1;33m.\u001b[0m\u001b[0mAccountAPI\u001b[0m\u001b[1;33m(\u001b[0m\u001b[0mapi_key\u001b[0m\u001b[1;33m,\u001b[0m \u001b[0msecret_key\u001b[0m\u001b[1;33m,\u001b[0m \u001b[0mpassphrase\u001b[0m\u001b[1;33m,\u001b[0m \u001b[1;32mFalse\u001b[0m\u001b[1;33m,\u001b[0m \u001b[0mflag\u001b[0m\u001b[1;33m)\u001b[0m\u001b[1;33m\u001b[0m\u001b[1;33m\u001b[0m\u001b[0m\n\u001b[0;32m      5\u001b[0m \u001b[1;31m# 查看账户持仓风险 GET Position_risk\u001b[0m\u001b[1;33m\u001b[0m\u001b[1;33m\u001b[0m\u001b[1;33m\u001b[0m\u001b[0m\n\u001b[1;32m----> 6\u001b[1;33m \u001b[0mresult\u001b[0m \u001b[1;33m=\u001b[0m \u001b[0maccountAPI\u001b[0m\u001b[1;33m.\u001b[0m\u001b[0mget_position_risk\u001b[0m\u001b[1;33m(\u001b[0m\u001b[1;34m'SWAP'\u001b[0m\u001b[1;33m)\u001b[0m\u001b[1;33m\u001b[0m\u001b[1;33m\u001b[0m\u001b[0m\n\u001b[0m\u001b[0;32m      7\u001b[0m \u001b[0mresult\u001b[0m\u001b[1;33m\u001b[0m\u001b[1;33m\u001b[0m\u001b[0m\n",
      "\u001b[1;31mAttributeError\u001b[0m: 'AccountAPI' object has no attribute 'get_position_risk'"
     ]
    }
   ],
   "source": [
    "flag = '0'  # 实盘 real trading\n",
    "\n",
    "# account api\n",
    "accountAPI = account.AccountAPI(api_key, secret_key, passphrase, False, flag)\n",
    "# 查看账户持仓风险 GET Position_risk\n",
    "result = accountAPI.get_position_risk('SWAP')\n",
    "result"
   ]
  },
  {
   "cell_type": "code",
   "execution_count": 25,
   "id": "2010a839",
   "metadata": {},
   "outputs": [
    {
     "name": "stdout",
     "output_type": "stream",
     "text": [
      "{\"msg\":\"Broker id of APIKey does not match current environment.\",\"code\":\"50101\"}, 401\n"
     ]
    },
    {
     "ename": "OkexAPIException",
     "evalue": "API Request Error(error_code=None): System error",
     "output_type": "error",
     "traceback": [
      "\u001b[1;31m---------------------------------------------------------------------------\u001b[0m",
      "\u001b[1;31mOkexAPIException\u001b[0m                          Traceback (most recent call last)",
      "\u001b[1;32m<ipython-input-25-5f01b8e8f6af>\u001b[0m in \u001b[0;36m<module>\u001b[1;34m\u001b[0m\n\u001b[0;32m      1\u001b[0m \u001b[1;31m# 查看账户持仓风险\u001b[0m\u001b[1;33m\u001b[0m\u001b[1;33m\u001b[0m\u001b[1;33m\u001b[0m\u001b[0m\n\u001b[0;32m      2\u001b[0m \u001b[1;32mfrom\u001b[0m \u001b[0mokex\u001b[0m\u001b[1;33m.\u001b[0m\u001b[0mv5\u001b[0m\u001b[1;33m.\u001b[0m\u001b[0minsttype\u001b[0m \u001b[1;32mimport\u001b[0m \u001b[0mInstType\u001b[0m\u001b[1;33m\u001b[0m\u001b[1;33m\u001b[0m\u001b[0m\n\u001b[1;32m----> 3\u001b[1;33m \u001b[0mresult\u001b[0m \u001b[1;33m=\u001b[0m \u001b[0maccountAPI\u001b[0m\u001b[1;33m.\u001b[0m\u001b[0mposition_risk\u001b[0m\u001b[1;33m(\u001b[0m\u001b[0minstType\u001b[0m\u001b[1;33m=\u001b[0m\u001b[0mInstType\u001b[0m\u001b[1;33m.\u001b[0m\u001b[0mMARGIN\u001b[0m\u001b[1;33m)\u001b[0m\u001b[1;33m\u001b[0m\u001b[1;33m\u001b[0m\u001b[0m\n\u001b[0m",
      "\u001b[1;32mc:\\program files\\python37\\lib\\site-packages\\okex\\v5\\account_api.py\u001b[0m in \u001b[0;36mposition_risk\u001b[1;34m(self, instType)\u001b[0m\n\u001b[0;32m     24\u001b[0m         \u001b[1;32mif\u001b[0m \u001b[0minstType\u001b[0m \u001b[1;32mis\u001b[0m \u001b[1;32mnot\u001b[0m \u001b[1;32mNone\u001b[0m\u001b[1;33m:\u001b[0m\u001b[1;33m\u001b[0m\u001b[1;33m\u001b[0m\u001b[0m\n\u001b[0;32m     25\u001b[0m             \u001b[0mparams\u001b[0m\u001b[1;33m[\u001b[0m\u001b[1;34m'instType'\u001b[0m\u001b[1;33m]\u001b[0m \u001b[1;33m=\u001b[0m \u001b[0menum_to_str\u001b[0m\u001b[1;33m(\u001b[0m\u001b[0minstType\u001b[0m\u001b[1;33m)\u001b[0m\u001b[1;33m\u001b[0m\u001b[1;33m\u001b[0m\u001b[0m\n\u001b[1;32m---> 26\u001b[1;33m         \u001b[0mdata\u001b[0m \u001b[1;33m=\u001b[0m \u001b[0mself\u001b[0m\u001b[1;33m.\u001b[0m\u001b[0m_request_with_params\u001b[0m\u001b[1;33m(\u001b[0m\u001b[0mGET\u001b[0m\u001b[1;33m,\u001b[0m \u001b[0mPOSITION_RISK\u001b[0m\u001b[1;33m,\u001b[0m \u001b[0mparams\u001b[0m\u001b[1;33m)\u001b[0m\u001b[1;33m[\u001b[0m\u001b[1;34m\"data\"\u001b[0m\u001b[1;33m]\u001b[0m\u001b[1;33m\u001b[0m\u001b[1;33m\u001b[0m\u001b[0m\n\u001b[0m\u001b[0;32m     27\u001b[0m \u001b[1;33m\u001b[0m\u001b[0m\n\u001b[0;32m     28\u001b[0m         \u001b[1;31m# df = pd.DataFrame(data)\u001b[0m\u001b[1;33m\u001b[0m\u001b[1;33m\u001b[0m\u001b[1;33m\u001b[0m\u001b[0m\n",
      "\u001b[1;32mc:\\program files\\python37\\lib\\site-packages\\okex\\v5\\client.py\u001b[0m in \u001b[0;36m_request_with_params\u001b[1;34m(self, method, request_path, params, cursor)\u001b[0m\n\u001b[0;32m     96\u001b[0m \u001b[1;33m\u001b[0m\u001b[0m\n\u001b[0;32m     97\u001b[0m     \u001b[1;32mdef\u001b[0m \u001b[0m_request_with_params\u001b[0m\u001b[1;33m(\u001b[0m\u001b[0mself\u001b[0m\u001b[1;33m,\u001b[0m \u001b[0mmethod\u001b[0m\u001b[1;33m,\u001b[0m \u001b[0mrequest_path\u001b[0m\u001b[1;33m,\u001b[0m \u001b[0mparams\u001b[0m\u001b[1;33m,\u001b[0m \u001b[0mcursor\u001b[0m\u001b[1;33m=\u001b[0m\u001b[1;32mFalse\u001b[0m\u001b[1;33m)\u001b[0m\u001b[1;33m:\u001b[0m\u001b[1;33m\u001b[0m\u001b[1;33m\u001b[0m\u001b[0m\n\u001b[1;32m---> 98\u001b[1;33m         \u001b[1;32mreturn\u001b[0m \u001b[0mself\u001b[0m\u001b[1;33m.\u001b[0m\u001b[0m_request\u001b[0m\u001b[1;33m(\u001b[0m\u001b[0mmethod\u001b[0m\u001b[1;33m,\u001b[0m \u001b[0mrequest_path\u001b[0m\u001b[1;33m,\u001b[0m \u001b[0mparams\u001b[0m\u001b[1;33m,\u001b[0m \u001b[0mcursor\u001b[0m\u001b[1;33m)\u001b[0m\u001b[1;33m\u001b[0m\u001b[1;33m\u001b[0m\u001b[0m\n\u001b[0m\u001b[0;32m     99\u001b[0m \u001b[1;33m\u001b[0m\u001b[0m\n\u001b[0;32m    100\u001b[0m     \u001b[1;32mdef\u001b[0m \u001b[0m_get_timestamp\u001b[0m\u001b[1;33m(\u001b[0m\u001b[0mself\u001b[0m\u001b[1;33m)\u001b[0m\u001b[1;33m:\u001b[0m\u001b[1;33m\u001b[0m\u001b[1;33m\u001b[0m\u001b[0m\n",
      "\u001b[1;32mc:\\program files\\python37\\lib\\site-packages\\okex\\v5\\client.py\u001b[0m in \u001b[0;36m_request\u001b[1;34m(self, method, request_path, params, cursor)\u001b[0m\n\u001b[0;32m     75\u001b[0m         \u001b[1;31m# exception handle\u001b[0m\u001b[1;33m\u001b[0m\u001b[1;33m\u001b[0m\u001b[1;33m\u001b[0m\u001b[0m\n\u001b[0;32m     76\u001b[0m         \u001b[1;32mif\u001b[0m \u001b[1;32mnot\u001b[0m \u001b[0mstr\u001b[0m\u001b[1;33m(\u001b[0m\u001b[0mresponse\u001b[0m\u001b[1;33m.\u001b[0m\u001b[0mstatus_code\u001b[0m\u001b[1;33m)\u001b[0m\u001b[1;33m.\u001b[0m\u001b[0mstartswith\u001b[0m\u001b[1;33m(\u001b[0m\u001b[1;34m'2'\u001b[0m\u001b[1;33m)\u001b[0m\u001b[1;33m:\u001b[0m\u001b[1;33m\u001b[0m\u001b[1;33m\u001b[0m\u001b[0m\n\u001b[1;32m---> 77\u001b[1;33m             \u001b[1;32mraise\u001b[0m \u001b[0mexceptions\u001b[0m\u001b[1;33m.\u001b[0m\u001b[0mOkexAPIException\u001b[0m\u001b[1;33m(\u001b[0m\u001b[0mresponse\u001b[0m\u001b[1;33m)\u001b[0m\u001b[1;33m\u001b[0m\u001b[1;33m\u001b[0m\u001b[0m\n\u001b[0m\u001b[0;32m     78\u001b[0m         \u001b[1;32mtry\u001b[0m\u001b[1;33m:\u001b[0m\u001b[1;33m\u001b[0m\u001b[1;33m\u001b[0m\u001b[0m\n\u001b[0;32m     79\u001b[0m             \u001b[0mres_header\u001b[0m \u001b[1;33m=\u001b[0m \u001b[0mresponse\u001b[0m\u001b[1;33m.\u001b[0m\u001b[0mheaders\u001b[0m\u001b[1;33m\u001b[0m\u001b[1;33m\u001b[0m\u001b[0m\n",
      "\u001b[1;31mOkexAPIException\u001b[0m: API Request Error(error_code=None): System error"
     ]
    }
   ],
   "source": [
    "import okex.Account_api as Account\n",
    "import okex.Funding_api as Funding\n",
    "import okex.Market_api as Market\n",
    "import okex.Public_api as Public\n",
    "import okex.Trade_api as Trade\n",
    "import okex.subAccount_api as SubAccount\n",
    "import okex.status_api as Status\n",
    "import json\n",
    "\n",
    "\n",
    "if __name__ == '__main__':\n",
    "    api_key = \"\"\n",
    "    secret_key = \"\"\n",
    "    passphrase = \"\"\n",
    "    # flag是实盘与模拟盘的切换参数 flag is the key parameter which can help you to change between demo and real trading.\n",
    "    # flag = '1'  # 模拟盘 demo trading\n",
    "    flag = '0'  # 实盘 real trading\n",
    "\n",
    "    # account api\n",
    "    accountAPI = Account.AccountAPI(api_key, secret_key, passphrase, False, flag)\n",
    "    # 查看账户持仓风险 GET Position_risk\n",
    "    # result = accountAPI.get_position_risk('SWAP')\n",
    "    # 查看账户余额  Get Balance\n",
    "    # result = accountAPI.get_account('BTC')\n",
    "    # 查看持仓信息  Get Positions\n",
    "    # result = accountAPI.get_positions('FUTURES', 'BTC-USD-210402')\n",
    "    # 账单流水查询（近七天） Get Bills Details (recent 7 days)\n",
    "    # result = accountAPI.get_bills_detail('FUTURES', 'BTC','cross')\n",
    "    # 账单流水查询（近三个月） Get Bills Details (recent 3 months)\n",
    "    # result = accountAPI.get_bills_details('FUTURES', 'BTC','cross')\n",
    "    # 查看账户配置  Get Account Configuration\n",
    "    # result = accountAPI.get_account_config()\n",
    "    # 设置持仓模式  Set Position mode\n",
    "    # result = accountAPI.get_position_mode('long_short_mode')\n",
    "    # 设置杠杆倍数  Set Leverage\n",
    "    # result = accountAPI.set_leverage(instId='BTC-USD-210402', lever='10', mgnMode='cross')\n",
    "    # 获取最大可交易数量  Get Maximum Tradable Size For Instrument\n",
    "    # result = accountAPI.get_maximum_trade_size('BTC-USDT-210402', 'cross', 'USDT')\n",
    "    # 获取最大可用数量  Get Maximum Available Tradable Amount\n",
    "    # result = accountAPI.get_max_avail_size('BTC-USDT-210402', 'isolated', 'BTC')\n",
    "    # 调整保证金  Increase/Decrease margint\n",
    "    # result = accountAPI.Adjustment_margin('BTC-USDT-210409', 'long', 'add', '100')\n",
    "    # 获取杠杆倍数 Get Leverage\n",
    "    # result = accountAPI.get_leverage('BTC-USDT-210409', 'isolated')\n",
    "    # 获取币币逐仓杠杆最大可借  Get the maximum loan of isolated MARGIN\n",
    "    # result = accountAPI.get_max_load('BTC-USDT', 'cross', 'BTC')\n",
    "    # 获取当前账户交易手续费费率  Get Fee Rates\n",
    "    # result = accountAPI.get_fee_rates('FUTURES', '', category='1')\n",
    "    # 获取计息记录  Get interest-accrued\n",
    "    # result = accountAPI.get_interest_accrued('BTC-USDT', 'BTC', 'isolated', '', '', '10')\n",
    "    # 获取用户当前杠杆借币利率 Get Interest-accrued\n",
    "    # result = accountAPI.get_interest_rate()\n",
    "    # 期权希腊字母PA / BS切换  Set Greeks (PA/BS)\n",
    "    # result = accountAPI.set_greeks('BS')\n",
    "    # 查看账户最大可转余额  Get Maximum Withdrawals\n",
    "    # result = accountAPI.get_max_withdrawal('')\n",
    "\n",
    "    # funding api\n",
    "    fundingAPI = Funding.FundingAPI(api_key, secret_key, passphrase, False, flag)\n",
    "    # 获取充值地址信息  Get Deposit Address\n",
    "    # result = fundingAPI.get_deposit_address('')\n",
    "    # 获取资金账户余额信息  Get Balance\n",
    "    # result = fundingAPI.get_balances('BTC')\n",
    "    # 资金划转  Funds Transfer\n",
    "    # result = fundingAPI.funds_transfer(ccy='', amt='', type='1', froms=\"\", to=\"\",subAcct='')\n",
    "    # 提币  Withdrawal\n",
    "    # result = fundingAPI.coin_withdraw('usdt', '2', '3', '', '', '0')\n",
    "    # 充值记录  Get Deposit History\n",
    "    # result = fundingAPI.get_deposit_history()\n",
    "    # 提币记录  Get Withdrawal History\n",
    "    # result = fundingAPI.get_withdrawal_history()\n",
    "    # 获取币种列表  Get Currencies\n",
    "    # result = fundingAPI.get_currency()\n",
    "    # 余币宝申购/赎回  PiggyBank Purchase/Redemption\n",
    "    # result = fundingAPI.purchase_redempt('BTC', '1', 'purchase')\n",
    "    # 资金流水查询  Asset Bills Details\n",
    "    # result = fundingAPI.get_bills()\n",
    "\n",
    "    # market api\n",
    "    marketAPI = Market.MarketAPI(api_key, secret_key, passphrase, False, flag)\n",
    "    # 获取所有产品行情信息  Get Tickers\n",
    "    # result = marketAPI.get_tickers('SPOT')\n",
    "    # 获取单个产品行情信息  Get Ticker\n",
    "    # result = marketAPI.get_ticker('BTC-USDT')\n",
    "    # 获取指数行情  Get Index Tickers\n",
    "    # result = marketAPI.get_index_ticker('BTC', 'BTC-USD')\n",
    "    # 获取产品深度  Get Order Book\n",
    "    # result = marketAPI.get_orderbook('BTC-USDT-210402', '400')\n",
    "    # 获取所有交易产品K线数据  Get Candlesticks\n",
    "    # result = marketAPI.get_candlesticks('BTC-USDT-210924', bar='1m')\n",
    "    # 获取交易产品历史K线数据（仅主流币实盘数据）  Get Candlesticks History（top currencies in real-trading only）\n",
    "    # result = marketAPI.get_history_candlesticks('BTC-USDT')\n",
    "    # 获取指数K线数据  Get Index Candlesticks\n",
    "    # result = marketAPI.get_index_candlesticks('BTC-USDT')\n",
    "    # 获取标记价格K线数据  Get Mark Price Candlesticks\n",
    "    # result = marketAPI.get_markprice_candlesticks('BTC-USDT')\n",
    "    # 获取交易产品公共成交数据  Get Trades\n",
    "    # result = marketAPI.get_trades('BTC-USDT', '400')\n",
    "    # 获取平台24小时成交总量  Get Platform 24 Volume\n",
    "    # result = marketAPI.get_volume()\n",
    "    # Oracle 上链交易数据 GET Oracle\n",
    "    # result = marketAPI.get_oracle()\n",
    "\n",
    "    # public api\n",
    "    publicAPI = Public.PublicAPI(api_key, secret_key, passphrase, False, flag)\n",
    "    # 获取交易产品基础信息  Get instrument\n",
    "    # result = publicAPI.get_instruments('FUTURES', 'BTC-USDT')\n",
    "    # 获取交割和行权记录  Get Delivery/Exercise History\n",
    "    # result = publicAPI.get_deliver_history('FUTURES', 'BTC-USD')\n",
    "    # 获取持仓总量  Get Open Interest\n",
    "    # result = publicAPI.get_open_interest('SWAP')\n",
    "    # 获取永续合约当前资金费率  Get Funding Rate\n",
    "    # result = publicAPI.get_funding_rate('BTC-USD-SWAP')\n",
    "    # 获取永续合约历史资金费率  Get Funding Rate History\n",
    "    # result = publicAPI.funding_rate_history('BTC-USD-SWAP')\n",
    "    # 获取限价  Get Limit Price\n",
    "    # result = publicAPI.get_price_limit('BTC-USD-210402')\n",
    "    # 获取期权定价  Get Option Market Data\n",
    "    # result = publicAPI.get_opt_summary('BTC-USD')\n",
    "    # 获取预估交割/行权价格  Get Estimated Delivery/Excercise Price\n",
    "    # result = publicAPI.get_estimated_price('ETH-USD-210326')\n",
    "    # 获取免息额度和币种折算率  Get Discount Rate And Interest-Free Quota\n",
    "    # result = publicAPI.discount_interest_free_quota('')\n",
    "    # 获取系统时间  Get System Time\n",
    "    # result = publicAPI.get_system_time()\n",
    "    # 获取平台公共爆仓单信息  Get Liquidation Orders\n",
    "    # result = publicAPI.get_liquidation_orders('FUTURES', uly='BTC-USDT', alias='next_quarter', state='filled')\n",
    "    # 获取标记价格  Get Mark Price\n",
    "    # result = publicAPI.get_mark_price('FUTURES')\n",
    "    # 获取合约衍生品仓位档位 Get Tier\n",
    "    # result = publicAPI.get_tier(instType='MARGIN', instId='BTC-USDT', tdMode='cross')\n",
    "\n",
    "    # trade api\n",
    "    tradeAPI = Trade.TradeAPI(api_key, secret_key, passphrase, False, flag)\n",
    "    # 下单  Place Order\n",
    "    # result = tradeAPI.place_order(instId='BTC-USDT-210326', tdMode='cross', side='sell', posSide='short',\n",
    "    #                               ordType='market', sz='100')\n",
    "    # 批量下单  Place Multiple Orders\n",
    "    # result = tradeAPI.place_multiple_orders([\n",
    "    #     {'instId': 'BTC-USD-210402', 'tdMode': 'isolated', 'side': 'buy', 'ordType': 'limit', 'sz': '1', 'px': '17400',\n",
    "    #      'posSide': 'long',\n",
    "    #      'clOrdId': 'a12344', 'tag': 'test1210'},\n",
    "    #     {'instId': 'BTC-USD-210409', 'tdMode': 'isolated', 'side': 'buy', 'ordType': 'limit', 'sz': '1', 'px': '17359',\n",
    "    #      'posSide': 'long',\n",
    "    #      'clOrdId': 'a12344444', 'tag': 'test1211'}\n",
    "    # ])\n",
    "\n",
    "    # 撤单  Cancel Order\n",
    "    # result = tradeAPI.cancel_order('BTC-USD-201225', '257164323454332928')\n",
    "    # 批量撤单  Cancel Multiple Orders\n",
    "    # result = tradeAPI.cancel_multiple_orders([\n",
    "    #     {\"instId\": \"BTC-USD-210402\", \"ordId\": \"297389358169071616\"},\n",
    "    #     {\"instId\": \"BTC-USD-210409\", \"ordId\": \"297389358169071617\"}\n",
    "    # ])\n",
    "\n",
    "    # 修改订单  Amend Order\n",
    "    # result = tradeAPI.amend_order()\n",
    "    # 批量修改订单  Amend Multiple Orders\n",
    "    # result = tradeAPI.amend_multiple_orders(\n",
    "    #     [{'instId': 'BTC-USD-201225', 'cxlOnFail': 'false', 'ordId': '257551616434384896', 'newPx': '17880'},\n",
    "    #      {'instId': 'BTC-USD-201225', 'cxlOnFail': 'false', 'ordId': '257551616652488704', 'newPx': '17882'}\n",
    "    #      ])\n",
    "\n",
    "    # 市价仓位全平  Close Positions\n",
    "    # result = tradeAPI.close_positions('BTC-USDT-210409', 'isolated', 'long', '')\n",
    "    # 获取订单信息  Get Order Details\n",
    "    # result = tradeAPI.get_orders('BTC-USD-201225', '257173039968825345')\n",
    "    # 获取未成交订单列表  Get Order List\n",
    "    # result = tradeAPI.get_order_list()\n",
    "    # 获取历史订单记录（近七天） Get Order History (last 7 days）\n",
    "    # result = tradeAPI.get_orders_history('FUTURES')\n",
    "    # 获取历史订单记录（近三个月） Get Order History (last 3 months)\n",
    "    # result = tradeAPI.orders_history_archive('FUTURES')\n",
    "    # 获取成交明细  Get Transaction Details\n",
    "    # result = tradeAPI.get_fills()\n",
    "    # 策略委托下单  Place Algo Order\n",
    "    # result = tradeAPI.place_algo_order('BTC-USDT-210409', 'isolated', 'buy', ordType='conditional',\n",
    "    #                                    sz='100',posSide='long', tpTriggerPx='60000', tpOrdPx='59999')\n",
    "    # 撤销策略委托订单  Cancel Algo Order\n",
    "    # result = tradeAPI.cancel_algo_order([{'algoId': '297394002194735104', 'instId': 'BTC-USDT-210409'}])\n",
    "    # 获取未完成策略委托单列表  Get Algo Order List\n",
    "    # result = tradeAPI.order_algos_list('conditional', instType='FUTURES')\n",
    "    # 获取历史策略委托单列表  Get Algo Order History\n",
    "    # result = tradeAPI.order_algos_history('conditional', 'canceled', instType='FUTURES')\n",
    "\n",
    "    # 子账户API subAccount\n",
    "    subAccountAPI = SubAccount.SubAccountAPI(api_key, secret_key, passphrase, False, flag)\n",
    "    # 查询子账户的交易账户余额(适用于母账户) Query detailed balance info of Trading Account of a sub-account via the master account\n",
    "    # result = subAccountAPI.balances(subAcct='')\n",
    "    # 查询子账户转账记录(仅适用于母账户) History of sub-account transfer(applies to master accounts only)\n",
    "    # result = subAccountAPI.bills()\n",
    "    # 删除子账户APIKey(仅适用于母账户) Delete the APIkey of sub-accounts (applies to master accounts only)\n",
    "    # result = subAccountAPI.delete(pwd='', subAcct='', apiKey='')\n",
    "    # 重置子账户的APIKey(仅适用于母账户) Reset the APIkey of a sub-account(applies to master accounts only)\n",
    "    # result = subAccountAPI.reset(pwd='', subAcct='', label='', apiKey='', perm='')\n",
    "    # 创建子账户的APIKey(仅适用于母账户) Create an APIkey for a sub-account(applies to master accounts only)\n",
    "    # result = subAccountAPI.create(pwd='123456', subAcct='', label='', Passphrase='')\n",
    "    # 查看子账户列表(仅适用于母账户) View sub-account list(applies to master accounts only)\n",
    "    # result = subAccountAPI.view_list()\n",
    "    # 母账户控制子账户与子账户之间划转（仅适用于母账户）manage the transfers between sub-accounts(applies to master accounts only)\n",
    "    # result = subAccountAPI.control_transfer(ccy='', amt='', froms='', to='', fromSubAccount='', toSubAccount='')\n",
    "\n",
    "    # 系统状态API(仅适用于实盘) system status\n",
    "    Status = Status.StatusAPI(api_key, secret_key, passphrase, False, flag)\n",
    "    # 查看系统的升级状态\n",
    "    # result = Status.status()\n",
    "    print(json.dumps(result))"
   ]
  },
  {
   "cell_type": "code",
   "execution_count": 24,
   "id": "839bca51",
   "metadata": {},
   "outputs": [
    {
     "name": "stdout",
     "output_type": "stream",
     "text": [
      "{\"msg\":\"Broker id of APIKey does not match current environment.\",\"code\":\"50101\"}, 401\n"
     ]
    },
    {
     "ename": "OkexAPIException",
     "evalue": "API Request Error(error_code=None): System error",
     "output_type": "error",
     "traceback": [
      "\u001b[1;31m---------------------------------------------------------------------------\u001b[0m",
      "\u001b[1;31mOkexAPIException\u001b[0m                          Traceback (most recent call last)",
      "\u001b[1;32m<ipython-input-24-3a81f46d59b8>\u001b[0m in \u001b[0;36m<module>\u001b[1;34m\u001b[0m\n\u001b[0;32m      1\u001b[0m \u001b[1;31m# 查看账户余额\u001b[0m\u001b[1;33m\u001b[0m\u001b[1;33m\u001b[0m\u001b[1;33m\u001b[0m\u001b[0m\n\u001b[0;32m      2\u001b[0m \u001b[1;32mfrom\u001b[0m \u001b[0mokex\u001b[0m\u001b[1;33m.\u001b[0m\u001b[0mv5\u001b[0m\u001b[1;33m.\u001b[0m\u001b[0mccytype\u001b[0m \u001b[1;32mimport\u001b[0m \u001b[0mCcyType\u001b[0m\u001b[1;33m\u001b[0m\u001b[1;33m\u001b[0m\u001b[0m\n\u001b[1;32m----> 3\u001b[1;33m \u001b[0mresult\u001b[0m \u001b[1;33m=\u001b[0m \u001b[0maccountAPI\u001b[0m\u001b[1;33m.\u001b[0m\u001b[0mbalance\u001b[0m\u001b[1;33m(\u001b[0m\u001b[0mccyType\u001b[0m\u001b[1;33m=\u001b[0m\u001b[0mCcyType\u001b[0m\u001b[1;33m.\u001b[0m\u001b[0mBTC\u001b[0m\u001b[1;33m)\u001b[0m\u001b[1;33m\u001b[0m\u001b[1;33m\u001b[0m\u001b[0m\n\u001b[0m\u001b[0;32m      4\u001b[0m \u001b[0mresult\u001b[0m\u001b[1;33m\u001b[0m\u001b[1;33m\u001b[0m\u001b[0m\n",
      "\u001b[1;32mc:\\program files\\python37\\lib\\site-packages\\okex\\v5\\account_api.py\u001b[0m in \u001b[0;36mbalance\u001b[1;34m(self, ccyType)\u001b[0m\n\u001b[0;32m     34\u001b[0m         \u001b[1;32mif\u001b[0m \u001b[0mccyType\u001b[0m \u001b[1;32mis\u001b[0m \u001b[1;32mnot\u001b[0m \u001b[1;32mNone\u001b[0m\u001b[1;33m:\u001b[0m\u001b[1;33m\u001b[0m\u001b[1;33m\u001b[0m\u001b[0m\n\u001b[0;32m     35\u001b[0m             \u001b[0mparams\u001b[0m\u001b[1;33m[\u001b[0m\u001b[1;34m'ccyType'\u001b[0m\u001b[1;33m]\u001b[0m \u001b[1;33m=\u001b[0m \u001b[0menum_to_str\u001b[0m\u001b[1;33m(\u001b[0m\u001b[0mccyType\u001b[0m\u001b[1;33m)\u001b[0m\u001b[1;33m\u001b[0m\u001b[1;33m\u001b[0m\u001b[0m\n\u001b[1;32m---> 36\u001b[1;33m         \u001b[1;32mreturn\u001b[0m \u001b[0mself\u001b[0m\u001b[1;33m.\u001b[0m\u001b[0m_request_with_params\u001b[0m\u001b[1;33m(\u001b[0m\u001b[0mGET\u001b[0m\u001b[1;33m,\u001b[0m \u001b[0mBALANCE\u001b[0m\u001b[1;33m,\u001b[0m \u001b[0mparams\u001b[0m\u001b[1;33m)\u001b[0m\u001b[1;33m[\u001b[0m\u001b[1;34m'data'\u001b[0m\u001b[1;33m]\u001b[0m\u001b[1;33m\u001b[0m\u001b[1;33m\u001b[0m\u001b[0m\n\u001b[0m\u001b[0;32m     37\u001b[0m \u001b[1;33m\u001b[0m\u001b[0m\n\u001b[0;32m     38\u001b[0m     \u001b[1;31m# get specific currency info\u001b[0m\u001b[1;33m\u001b[0m\u001b[1;33m\u001b[0m\u001b[1;33m\u001b[0m\u001b[0m\n",
      "\u001b[1;32mc:\\program files\\python37\\lib\\site-packages\\okex\\v5\\client.py\u001b[0m in \u001b[0;36m_request_with_params\u001b[1;34m(self, method, request_path, params, cursor)\u001b[0m\n\u001b[0;32m     96\u001b[0m \u001b[1;33m\u001b[0m\u001b[0m\n\u001b[0;32m     97\u001b[0m     \u001b[1;32mdef\u001b[0m \u001b[0m_request_with_params\u001b[0m\u001b[1;33m(\u001b[0m\u001b[0mself\u001b[0m\u001b[1;33m,\u001b[0m \u001b[0mmethod\u001b[0m\u001b[1;33m,\u001b[0m \u001b[0mrequest_path\u001b[0m\u001b[1;33m,\u001b[0m \u001b[0mparams\u001b[0m\u001b[1;33m,\u001b[0m \u001b[0mcursor\u001b[0m\u001b[1;33m=\u001b[0m\u001b[1;32mFalse\u001b[0m\u001b[1;33m)\u001b[0m\u001b[1;33m:\u001b[0m\u001b[1;33m\u001b[0m\u001b[1;33m\u001b[0m\u001b[0m\n\u001b[1;32m---> 98\u001b[1;33m         \u001b[1;32mreturn\u001b[0m \u001b[0mself\u001b[0m\u001b[1;33m.\u001b[0m\u001b[0m_request\u001b[0m\u001b[1;33m(\u001b[0m\u001b[0mmethod\u001b[0m\u001b[1;33m,\u001b[0m \u001b[0mrequest_path\u001b[0m\u001b[1;33m,\u001b[0m \u001b[0mparams\u001b[0m\u001b[1;33m,\u001b[0m \u001b[0mcursor\u001b[0m\u001b[1;33m)\u001b[0m\u001b[1;33m\u001b[0m\u001b[1;33m\u001b[0m\u001b[0m\n\u001b[0m\u001b[0;32m     99\u001b[0m \u001b[1;33m\u001b[0m\u001b[0m\n\u001b[0;32m    100\u001b[0m     \u001b[1;32mdef\u001b[0m \u001b[0m_get_timestamp\u001b[0m\u001b[1;33m(\u001b[0m\u001b[0mself\u001b[0m\u001b[1;33m)\u001b[0m\u001b[1;33m:\u001b[0m\u001b[1;33m\u001b[0m\u001b[1;33m\u001b[0m\u001b[0m\n",
      "\u001b[1;32mc:\\program files\\python37\\lib\\site-packages\\okex\\v5\\client.py\u001b[0m in \u001b[0;36m_request\u001b[1;34m(self, method, request_path, params, cursor)\u001b[0m\n\u001b[0;32m     75\u001b[0m         \u001b[1;31m# exception handle\u001b[0m\u001b[1;33m\u001b[0m\u001b[1;33m\u001b[0m\u001b[1;33m\u001b[0m\u001b[0m\n\u001b[0;32m     76\u001b[0m         \u001b[1;32mif\u001b[0m \u001b[1;32mnot\u001b[0m \u001b[0mstr\u001b[0m\u001b[1;33m(\u001b[0m\u001b[0mresponse\u001b[0m\u001b[1;33m.\u001b[0m\u001b[0mstatus_code\u001b[0m\u001b[1;33m)\u001b[0m\u001b[1;33m.\u001b[0m\u001b[0mstartswith\u001b[0m\u001b[1;33m(\u001b[0m\u001b[1;34m'2'\u001b[0m\u001b[1;33m)\u001b[0m\u001b[1;33m:\u001b[0m\u001b[1;33m\u001b[0m\u001b[1;33m\u001b[0m\u001b[0m\n\u001b[1;32m---> 77\u001b[1;33m             \u001b[1;32mraise\u001b[0m \u001b[0mexceptions\u001b[0m\u001b[1;33m.\u001b[0m\u001b[0mOkexAPIException\u001b[0m\u001b[1;33m(\u001b[0m\u001b[0mresponse\u001b[0m\u001b[1;33m)\u001b[0m\u001b[1;33m\u001b[0m\u001b[1;33m\u001b[0m\u001b[0m\n\u001b[0m\u001b[0;32m     78\u001b[0m         \u001b[1;32mtry\u001b[0m\u001b[1;33m:\u001b[0m\u001b[1;33m\u001b[0m\u001b[1;33m\u001b[0m\u001b[0m\n\u001b[0;32m     79\u001b[0m             \u001b[0mres_header\u001b[0m \u001b[1;33m=\u001b[0m \u001b[0mresponse\u001b[0m\u001b[1;33m.\u001b[0m\u001b[0mheaders\u001b[0m\u001b[1;33m\u001b[0m\u001b[1;33m\u001b[0m\u001b[0m\n",
      "\u001b[1;31mOkexAPIException\u001b[0m: API Request Error(error_code=None): System error"
     ]
    }
   ],
   "source": [
    "# 查看账户余额\n",
    "from okex.v5.ccytype import CcyType\n",
    "result = accountAPI.balance(ccyType=CcyType.BTC)\n",
    "result"
   ]
  },
  {
   "cell_type": "code",
   "execution_count": 26,
   "id": "a630622e",
   "metadata": {},
   "outputs": [
    {
     "name": "stdout",
     "output_type": "stream",
     "text": [
      "{\"msg\":\"Broker id of APIKey does not match current environment.\",\"code\":\"50101\"}, 401\n"
     ]
    },
    {
     "ename": "OkexAPIException",
     "evalue": "API Request Error(error_code=None): System error",
     "output_type": "error",
     "traceback": [
      "\u001b[1;31m---------------------------------------------------------------------------\u001b[0m",
      "\u001b[1;31mOkexAPIException\u001b[0m                          Traceback (most recent call last)",
      "\u001b[1;32m<ipython-input-26-be85d11200fe>\u001b[0m in \u001b[0;36m<module>\u001b[1;34m\u001b[0m\n\u001b[0;32m      1\u001b[0m \u001b[1;31m# 查看持仓信息\u001b[0m\u001b[1;33m\u001b[0m\u001b[1;33m\u001b[0m\u001b[1;33m\u001b[0m\u001b[0m\n\u001b[0;32m      2\u001b[0m \u001b[1;32mfrom\u001b[0m \u001b[0mokex\u001b[0m\u001b[1;33m.\u001b[0m\u001b[0mv5\u001b[0m\u001b[1;33m.\u001b[0m\u001b[0minsttype\u001b[0m \u001b[1;32mimport\u001b[0m \u001b[0mInstType\u001b[0m\u001b[1;33m\u001b[0m\u001b[1;33m\u001b[0m\u001b[0m\n\u001b[1;32m----> 3\u001b[1;33m \u001b[0mresult\u001b[0m \u001b[1;33m=\u001b[0m \u001b[0maccountAPI\u001b[0m\u001b[1;33m.\u001b[0m\u001b[0mpositions\u001b[0m\u001b[1;33m(\u001b[0m\u001b[1;33m)\u001b[0m\u001b[1;33m\u001b[0m\u001b[1;33m\u001b[0m\u001b[0m\n\u001b[0m\u001b[0;32m      4\u001b[0m \u001b[1;31m# print(result)\u001b[0m\u001b[1;33m\u001b[0m\u001b[1;33m\u001b[0m\u001b[1;33m\u001b[0m\u001b[0m\n\u001b[0;32m      5\u001b[0m \u001b[1;31m# 账单流水查询（近七天）\u001b[0m\u001b[1;33m\u001b[0m\u001b[1;33m\u001b[0m\u001b[1;33m\u001b[0m\u001b[0m\n",
      "\u001b[1;32mc:\\program files\\python37\\lib\\site-packages\\okex\\v5\\account_api.py\u001b[0m in \u001b[0;36mpositions\u001b[1;34m(self, instType, instId, posId)\u001b[0m\n\u001b[0;32m     50\u001b[0m                 \u001b[0mparams\u001b[0m\u001b[1;33m[\u001b[0m\u001b[1;34m'instId'\u001b[0m\u001b[1;33m]\u001b[0m \u001b[1;33m=\u001b[0m \u001b[0miterable_to_str\u001b[0m\u001b[1;33m(\u001b[0m\u001b[0mposIdList\u001b[0m\u001b[1;33m)\u001b[0m\u001b[1;33m\u001b[0m\u001b[1;33m\u001b[0m\u001b[0m\n\u001b[0;32m     51\u001b[0m \u001b[1;33m\u001b[0m\u001b[0m\n\u001b[1;32m---> 52\u001b[1;33m         \u001b[0mdata\u001b[0m \u001b[1;33m=\u001b[0m \u001b[0mself\u001b[0m\u001b[1;33m.\u001b[0m\u001b[0m_request_with_params\u001b[0m\u001b[1;33m(\u001b[0m\u001b[0mGET\u001b[0m\u001b[1;33m,\u001b[0m \u001b[0mPOSITIONS\u001b[0m\u001b[1;33m,\u001b[0m \u001b[0mparams\u001b[0m\u001b[1;33m)\u001b[0m\u001b[1;33m[\u001b[0m\u001b[1;34m'data'\u001b[0m\u001b[1;33m]\u001b[0m\u001b[1;33m\u001b[0m\u001b[1;33m\u001b[0m\u001b[0m\n\u001b[0m\u001b[0;32m     53\u001b[0m         \u001b[1;32mreturn\u001b[0m \u001b[0mdata\u001b[0m\u001b[1;33m\u001b[0m\u001b[1;33m\u001b[0m\u001b[0m\n\u001b[0;32m     54\u001b[0m \u001b[1;33m\u001b[0m\u001b[0m\n",
      "\u001b[1;32mc:\\program files\\python37\\lib\\site-packages\\okex\\v5\\client.py\u001b[0m in \u001b[0;36m_request_with_params\u001b[1;34m(self, method, request_path, params, cursor)\u001b[0m\n\u001b[0;32m     96\u001b[0m \u001b[1;33m\u001b[0m\u001b[0m\n\u001b[0;32m     97\u001b[0m     \u001b[1;32mdef\u001b[0m \u001b[0m_request_with_params\u001b[0m\u001b[1;33m(\u001b[0m\u001b[0mself\u001b[0m\u001b[1;33m,\u001b[0m \u001b[0mmethod\u001b[0m\u001b[1;33m,\u001b[0m \u001b[0mrequest_path\u001b[0m\u001b[1;33m,\u001b[0m \u001b[0mparams\u001b[0m\u001b[1;33m,\u001b[0m \u001b[0mcursor\u001b[0m\u001b[1;33m=\u001b[0m\u001b[1;32mFalse\u001b[0m\u001b[1;33m)\u001b[0m\u001b[1;33m:\u001b[0m\u001b[1;33m\u001b[0m\u001b[1;33m\u001b[0m\u001b[0m\n\u001b[1;32m---> 98\u001b[1;33m         \u001b[1;32mreturn\u001b[0m \u001b[0mself\u001b[0m\u001b[1;33m.\u001b[0m\u001b[0m_request\u001b[0m\u001b[1;33m(\u001b[0m\u001b[0mmethod\u001b[0m\u001b[1;33m,\u001b[0m \u001b[0mrequest_path\u001b[0m\u001b[1;33m,\u001b[0m \u001b[0mparams\u001b[0m\u001b[1;33m,\u001b[0m \u001b[0mcursor\u001b[0m\u001b[1;33m)\u001b[0m\u001b[1;33m\u001b[0m\u001b[1;33m\u001b[0m\u001b[0m\n\u001b[0m\u001b[0;32m     99\u001b[0m \u001b[1;33m\u001b[0m\u001b[0m\n\u001b[0;32m    100\u001b[0m     \u001b[1;32mdef\u001b[0m \u001b[0m_get_timestamp\u001b[0m\u001b[1;33m(\u001b[0m\u001b[0mself\u001b[0m\u001b[1;33m)\u001b[0m\u001b[1;33m:\u001b[0m\u001b[1;33m\u001b[0m\u001b[1;33m\u001b[0m\u001b[0m\n",
      "\u001b[1;32mc:\\program files\\python37\\lib\\site-packages\\okex\\v5\\client.py\u001b[0m in \u001b[0;36m_request\u001b[1;34m(self, method, request_path, params, cursor)\u001b[0m\n\u001b[0;32m     75\u001b[0m         \u001b[1;31m# exception handle\u001b[0m\u001b[1;33m\u001b[0m\u001b[1;33m\u001b[0m\u001b[1;33m\u001b[0m\u001b[0m\n\u001b[0;32m     76\u001b[0m         \u001b[1;32mif\u001b[0m \u001b[1;32mnot\u001b[0m \u001b[0mstr\u001b[0m\u001b[1;33m(\u001b[0m\u001b[0mresponse\u001b[0m\u001b[1;33m.\u001b[0m\u001b[0mstatus_code\u001b[0m\u001b[1;33m)\u001b[0m\u001b[1;33m.\u001b[0m\u001b[0mstartswith\u001b[0m\u001b[1;33m(\u001b[0m\u001b[1;34m'2'\u001b[0m\u001b[1;33m)\u001b[0m\u001b[1;33m:\u001b[0m\u001b[1;33m\u001b[0m\u001b[1;33m\u001b[0m\u001b[0m\n\u001b[1;32m---> 77\u001b[1;33m             \u001b[1;32mraise\u001b[0m \u001b[0mexceptions\u001b[0m\u001b[1;33m.\u001b[0m\u001b[0mOkexAPIException\u001b[0m\u001b[1;33m(\u001b[0m\u001b[0mresponse\u001b[0m\u001b[1;33m)\u001b[0m\u001b[1;33m\u001b[0m\u001b[1;33m\u001b[0m\u001b[0m\n\u001b[0m\u001b[0;32m     78\u001b[0m         \u001b[1;32mtry\u001b[0m\u001b[1;33m:\u001b[0m\u001b[1;33m\u001b[0m\u001b[1;33m\u001b[0m\u001b[0m\n\u001b[0;32m     79\u001b[0m             \u001b[0mres_header\u001b[0m \u001b[1;33m=\u001b[0m \u001b[0mresponse\u001b[0m\u001b[1;33m.\u001b[0m\u001b[0mheaders\u001b[0m\u001b[1;33m\u001b[0m\u001b[1;33m\u001b[0m\u001b[0m\n",
      "\u001b[1;31mOkexAPIException\u001b[0m: API Request Error(error_code=None): System error"
     ]
    }
   ],
   "source": [
    "# 查看持仓信息\n",
    "from okex.v5.insttype import InstType\n",
    "result = accountAPI.positions()\n",
    "# print(result)\n",
    "# 账单流水查询（近七天）\n",
    "result = accountAPI.bills()"
   ]
  },
  {
   "cell_type": "code",
   "execution_count": null,
   "id": "3514c498",
   "metadata": {},
   "outputs": [],
   "source": []
  }
 ],
 "metadata": {
  "kernelspec": {
   "display_name": "Python 3",
   "language": "python",
   "name": "python3"
  },
  "language_info": {
   "codemirror_mode": {
    "name": "ipython",
    "version": 3
   },
   "file_extension": ".py",
   "mimetype": "text/x-python",
   "name": "python",
   "nbconvert_exporter": "python",
   "pygments_lexer": "ipython3",
   "version": "3.7.8"
  }
 },
 "nbformat": 4,
 "nbformat_minor": 5
}
