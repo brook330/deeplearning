{
 "cells": [
  {
   "cell_type": "code",
   "execution_count": 7,
   "id": "52a9c38b",
   "metadata": {},
   "outputs": [],
   "source": [
    "import numpy as np\n",
    "import pandas as pd"
   ]
  },
  {
   "cell_type": "code",
   "execution_count": 8,
   "id": "ad6548a6",
   "metadata": {},
   "outputs": [],
   "source": [
    "df=pd.read_csv(\"CBOTYM.csv\")"
   ]
  },
  {
   "cell_type": "code",
   "execution_count": 12,
   "id": "15369e51",
   "metadata": {},
   "outputs": [],
   "source": [
    "TODAYVOLATILITY = np.std(df['close'].values,ddof =30)#当日市场波动"
   ]
  },
  {
   "cell_type": "code",
   "execution_count": null,
   "id": "ee34b7e6",
   "metadata": {},
   "outputs": [],
   "source": []
  },
  {
   "cell_type": "code",
   "execution_count": null,
   "id": "e2673aea",
   "metadata": {},
   "outputs": [],
   "source": []
  },
  {
   "cell_type": "code",
   "execution_count": 17,
   "id": "f1c889f6",
   "metadata": {},
   "outputs": [],
   "source": [
    "YESTERDAYVOLATILITY = np.std(df['close'].values[1:],ddof =30)#昨日市场波动"
   ]
  },
  {
   "cell_type": "code",
   "execution_count": 18,
   "id": "ee1cb491",
   "metadata": {},
   "outputs": [],
   "source": [
    "LOOKBACKDAYS=0"
   ]
  },
  {
   "cell_type": "code",
   "execution_count": 19,
   "id": "f3325e34",
   "metadata": {},
   "outputs": [],
   "source": [
    "DELTAVOLATILITY=(TODAYVOLATILITY-YESTERDAYVOLATILITY)/TODAYVOLATILITY #市场波动的变动率"
   ]
  },
  {
   "cell_type": "code",
   "execution_count": 23,
   "id": "7111f657",
   "metadata": {},
   "outputs": [],
   "source": [
    "#计算自适应参数 "
   ]
  },
  {
   "cell_type": "code",
   "execution_count": 24,
   "id": "200eb577",
   "metadata": {},
   "outputs": [],
   "source": [
    "if(abs(df['close'].values[-1]-df['open'].values[-1])<=30):\n",
    "       LOOKBACKDAYS = 20\n",
    "else:\n",
    "       LOOKBACKDAYS = 1+DELTAVOLATILITY\n",
    "   "
   ]
  },
  {
   "cell_type": "code",
   "execution_count": 25,
   "id": "b6663888",
   "metadata": {},
   "outputs": [],
   "source": [
    "LOOKBACKDAYS=round(LOOKBACKDAYS,0)"
   ]
  },
  {
   "cell_type": "code",
   "execution_count": 26,
   "id": "8423075b",
   "metadata": {},
   "outputs": [],
   "source": [
    "LOOKBACKDAYS=min(LOOKBACKDAYS,40)"
   ]
  },
  {
   "cell_type": "code",
   "execution_count": 27,
   "id": "cea39993",
   "metadata": {},
   "outputs": [],
   "source": [
    "LOOKBACKDAYS=max(LOOKBACKDAYS,20);"
   ]
  },
  {
   "cell_type": "code",
   "execution_count": 28,
   "id": "0ac92f57",
   "metadata": {},
   "outputs": [],
   "source": [
    "import talib as ta"
   ]
  },
  {
   "cell_type": "code",
   "execution_count": 63,
   "id": "d48ce3a7",
   "metadata": {},
   "outputs": [
    {
     "data": {
      "text/plain": [
       "array([           nan,            nan,            nan, ...,\n",
       "       30952.39054522, 30951.45970767, 30950.00201234])"
      ]
     },
     "execution_count": 63,
     "metadata": {},
     "output_type": "execute_result"
    }
   ],
   "source": [
    "MIDLINE=ta.MA(df['close'].values,timeperiod = LOOKBACKDAYS,matype=0)\n",
    "BAND=np.std(df['close'].values,ddof =LOOKBACKDAYS) #自适应布林通道中轨\n",
    "UPBAND=MIDLINE+2*BAND#自适应布林通道上轨\n",
    "DNBAND=MIDLINE-2*BAND#自适应布林通道下轨\n",
    "BUYPOINT1=(df['high'].values)#自适应唐奇安通道上轨\n",
    "BUYPOINT2=(df['high'].values[:-1])\n",
    "ta.EMA(np.array(BUYPOINT1), timeperiod=60)"
   ]
  },
  {
   "cell_type": "code",
   "execution_count": null,
   "id": "a9dfcbe2",
   "metadata": {},
   "outputs": [],
   "source": []
  },
  {
   "cell_type": "code",
   "execution_count": 61,
   "id": "220543e6",
   "metadata": {},
   "outputs": [
    {
     "data": {
      "text/plain": [
       "array([30985., 30999., 30998., 30996., 30995., 30986., 30988., 30998.,\n",
       "       30985., 30963., 30971., 30959., 30967., 30970., 30984., 30988.,\n",
       "       30985., 30931., 30924., 30907.])"
      ]
     },
     "execution_count": 61,
     "metadata": {},
     "output_type": "execute_result"
    }
   ],
   "source": [
    "df['high'].values[-LOOKBACKDAYS:]"
   ]
  },
  {
   "cell_type": "code",
   "execution_count": 62,
   "id": "2e4a8de3",
   "metadata": {},
   "outputs": [
    {
     "data": {
      "text/plain": [
       "20"
      ]
     },
     "execution_count": 62,
     "metadata": {},
     "output_type": "execute_result"
    }
   ],
   "source": [
    "df['high'].values[-(LOOKBACKDAYS+1):-1].shape[0]"
   ]
  },
  {
   "cell_type": "code",
   "execution_count": null,
   "id": "106f4c5d",
   "metadata": {},
   "outputs": [],
   "source": []
  },
  {
   "cell_type": "code",
   "execution_count": null,
   "id": "939f5735",
   "metadata": {},
   "outputs": [],
   "source": []
  },
  {
   "cell_type": "code",
   "execution_count": 64,
   "id": "e43b70a3",
   "metadata": {},
   "outputs": [],
   "source": [
    "VAR1=ta.EMA(ta.EMA(np.array(BUYPOINT1), timeperiod=60), timeperiod=60)[-LOOKBACKDAYS:]\n",
    "VAR2=ta.EMA(ta.EMA(np.array(BUYPOINT2), timeperiod=60), timeperiod=60)[-(LOOKBACKDAYS+1):-1]\n"
   ]
  },
  {
   "cell_type": "code",
   "execution_count": 65,
   "id": "68900b77",
   "metadata": {},
   "outputs": [
    {
     "data": {
      "text/plain": [
       "array([30994.40776144, 30992.45329308, 30990.63084816, 30988.93172046,\n",
       "       30987.34870772, 30985.86634756, 30984.48189146, 30983.20126281,\n",
       "       30982.00516676, 30980.86578729, 30979.78929089, 30978.75987914,\n",
       "       30977.78422157, 30976.86312486, 30976.00910976, 30975.22306757,\n",
       "       30974.49823416, 30973.7733919 , 30973.04179569, 30972.28639296])"
      ]
     },
     "execution_count": 65,
     "metadata": {},
     "output_type": "execute_result"
    }
   ],
   "source": [
    "VAR1"
   ]
  },
  {
   "cell_type": "code",
   "execution_count": 50,
   "id": "63c1a647",
   "metadata": {},
   "outputs": [],
   "source": [
    "VAR1=VAR1[~pd.isnull(VAR1)]\n",
    "VAR2=VAR2[~pd.isnull(VAR2)]"
   ]
  },
  {
   "cell_type": "code",
   "execution_count": 77,
   "id": "42ad839f",
   "metadata": {},
   "outputs": [
    {
     "data": {
      "text/plain": [
       "30998.727945827406"
      ]
     },
     "execution_count": 77,
     "metadata": {},
     "output_type": "execute_result"
    }
   ],
   "source": [
    "VAR2.max()"
   ]
  },
  {
   "cell_type": "code",
   "execution_count": 78,
   "id": "629a3f19",
   "metadata": {},
   "outputs": [
    {
     "data": {
      "text/plain": [
       "-4.676565040932323e-05"
      ]
     },
     "execution_count": 78,
     "metadata": {},
     "output_type": "execute_result"
    }
   ],
   "source": [
    "(VAR1-VAR2).max()/VAR2.max()"
   ]
  },
  {
   "cell_type": "code",
   "execution_count": 53,
   "id": "c067c31b",
   "metadata": {},
   "outputs": [
    {
     "data": {
      "text/plain": [
       "31103.477709291077"
      ]
     },
     "execution_count": 53,
     "metadata": {},
     "output_type": "execute_result"
    }
   ],
   "source": [
    "max(VAR2)"
   ]
  },
  {
   "cell_type": "code",
   "execution_count": 52,
   "id": "6e85a89b",
   "metadata": {},
   "outputs": [
    {
     "data": {
      "text/plain": [
       "0.0"
      ]
     },
     "execution_count": 52,
     "metadata": {},
     "output_type": "execute_result"
    }
   ],
   "source": [
    "控盘=max(VAR1)-max(VAR2)\n",
    "控盘"
   ]
  },
  {
   "cell_type": "code",
   "execution_count": null,
   "id": "68abbdbf",
   "metadata": {},
   "outputs": [],
   "source": []
  }
 ],
 "metadata": {
  "kernelspec": {
   "display_name": "Python 3",
   "language": "python",
   "name": "python3"
  },
  "language_info": {
   "codemirror_mode": {
    "name": "ipython",
    "version": 3
   },
   "file_extension": ".py",
   "mimetype": "text/x-python",
   "name": "python",
   "nbconvert_exporter": "python",
   "pygments_lexer": "ipython3",
   "version": "3.7.8"
  }
 },
 "nbformat": 4,
 "nbformat_minor": 5
}
